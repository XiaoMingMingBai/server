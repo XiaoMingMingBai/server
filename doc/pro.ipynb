{
 "cells": [
  {
   "cell_type": "code",
   "execution_count": null,
   "metadata": {},
   "outputs": [],
   "source": [
    "# 服务器端代码\n",
    "import socket\n",
    "\n",
    "# 创建一个TCP/IP套接字\n",
    "server_socket = socket.socket(socket.AF_INET, socket.SOCK_STREAM)\n",
    "\n",
    "# 绑定服务器地址和端口\n",
    "server_address = ('localhost', 8888)\n",
    "server_socket.bind(server_address)\n",
    "\n",
    "# 监听连接\n",
    "server_socket.listen(1)\n",
    "\n",
    "while True:\n",
    "    print('等待客户端连接...')\n",
    "    client_socket, client_address = server_socket.accept()\n",
    "    print('客户端已连接:', client_address)\n",
    "\n",
    "    try:\n",
    "        while True:\n",
    "            # 接收客户端发送的数据\n",
    "            data = client_socket.recv(1024)\n",
    "            if data:\n",
    "                print('接收到的数据:', data.decode())\n",
    "                # 发送响应给客户端\n",
    "                response = '已收到数据: ' + data.decode()\n",
    "                client_socket.sendall(response.encode())\n",
    "            else:\n",
    "                print('客户端已断开连接:', client_address)\n",
    "                break\n",
    "    finally:\n",
    "        # 关闭客户端连接\n",
    "        client_socket.close()\n",
    "\n",
    "# 关闭服务器套接字\n",
    "server_socket.close()\n"
   ]
  }
 ],
 "metadata": {
  "language_info": {
   "name": "python"
  }
 },
 "nbformat": 4,
 "nbformat_minor": 2
}
