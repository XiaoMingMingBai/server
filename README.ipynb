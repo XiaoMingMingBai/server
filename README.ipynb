{
 "cells": [
  {
   "cell_type": "markdown",
   "metadata": {
    "notebookRunGroups": {
     "groupValue": "2"
    }
   },
   "source": [
    "## To create and manage virtual environments using Python's `venv` module, you can use the following commands:\n",
    "\n",
    "1. Create a virtual environment:\n",
    "\n",
    "```shell\n",
    "python3 -m venv <path/to/venv>\n",
    "```\n",
    "\n",
    "2. Activate the virtual environment:\n",
    "\n",
    "- For Windows:\n",
    "```shell\n",
    "<path/to/venv>/Scripts/activate\n",
    "```\n",
    "- For macOS and Linux:\n",
    "```shell\n",
    "source <path/to/venv>/bin/activate\n",
    "```\n",
    "\n",
    "3. Deactivate the virtual environment:\n",
    "\n",
    "```shell\n",
    "deactivate\n",
    "```\n",
    "\n",
    "4. Install packages within the virtual environment:\n",
    "\n",
    "```shell\n",
    "pip install <package-name>\n",
    "```\n",
    "\n",
    "5. Create a requirements file:\n",
    "\n",
    "```shell\n",
    "pip freeze > requirements.txt\n",
    "```\n",
    "\n",
    "6. Install packages from a requirements file:\n",
    "\n",
    "```shell\n",
    "pip install -r requirements.txt\n",
    "```\n",
    "\n",
    "7. List installed packages within the virtual environment:\n",
    "\n",
    "```shell\n",
    "pip list\n",
    "```\n",
    "\n",
    "Remember to replace `<path/to/venv>` with the actual path where you want to create the virtual environment."
   ]
  },
  {
   "cell_type": "markdown",
   "metadata": {},
   "source": []
  }
 ],
 "metadata": {
  "language_info": {
   "name": "python"
  }
 },
 "nbformat": 4,
 "nbformat_minor": 2
}
