{
 "cells": [
  {
   "cell_type": "markdown",
   "metadata": {},
   "source": [
    "# 一、用户操作 /user\n",
    "\n",
    "## 1. 用户注册 /user/register"
   ]
  },
  {
   "cell_type": "code",
   "execution_count": 1,
   "metadata": {},
   "outputs": [
    {
     "name": "stdout",
     "output_type": "stream",
     "text": [
      "create Response: {'id': 7, 'username': 'xiaomingmingbai', 'email': '12695@qq.com'}\n"
     ]
    }
   ],
   "source": [
    "from urllib import response\n",
    "import requests\n",
    "\n",
    "global base_url\n",
    "base_url = \"http://localhost:8000/user/\"\n",
    "userName = \"xiaomingmingbai\"\n",
    "userPassword = \"love1999\"\n",
    "userEmail = \"12695@qq.com\"\n",
    "\n",
    "def createUser():\n",
    "    # 测试登录\n",
    "    login_url = f\"{base_url}register/\"\n",
    "    login_data = {\n",
    "        \"username\": userName,\n",
    "        \"email\": userEmail,\n",
    "        \"password\": userPassword,\n",
    "    }\n",
    "    headers = {\"Content-Type\": \"application/json\"}\n",
    "    response = requests.post(login_url, json=login_data, headers=headers)\n",
    "    print(\"create Response:\", response.json())\n",
    "\n",
    "createUser()"
   ]
  },
  {
   "cell_type": "markdown",
   "metadata": {},
   "source": [
    "## 2. 用户登录 /user/login"
   ]
  },
  {
   "cell_type": "code",
   "execution_count": 5,
   "metadata": {},
   "outputs": [
    {
     "name": "stdout",
     "output_type": "stream",
     "text": [
      "Login Response: {'token': 'f06c944d5dc8d303bbc15c40146f51d385931f4d'}\n"
     ]
    }
   ],
   "source": [
    "def login():\n",
    "    global token\n",
    "    # 测试登录\n",
    "    login_url = f'{base_url}login/'\n",
    "    login_data = {\n",
    "        'username': userName,\n",
    "        'password': userPassword,\n",
    "    }\n",
    "    \n",
    "    response = requests.post(login_url, data=login_data)\n",
    "    print('Login Response:', response.json())\n",
    "    token = response.json()['token']\n",
    "    \n",
    "login()"
   ]
  },
  {
   "cell_type": "markdown",
   "metadata": {},
   "source": [
    "## 3. 用户信息 /user/profile"
   ]
  },
  {
   "cell_type": "code",
   "execution_count": 3,
   "metadata": {},
   "outputs": [
    {
     "name": "stdout",
     "output_type": "stream",
     "text": [
      "User Info: {'id': 7, 'username': 'xiaomingmingbai', 'email': '12695@qq.com'}\n"
     ]
    }
   ],
   "source": [
    "def userInfo():\n",
    "    login_url = f'{base_url}profile/'\n",
    "    # 设置请求头\n",
    "    headers = {\n",
    "        \"Authorization\": f\"Token {token}\"\n",
    "    }\n",
    "\n",
    "    # 发送POST请求\n",
    "    response = requests.get(login_url, headers=headers)\n",
    "\n",
    "    # 检查响应状态码\n",
    "    if response.status_code == 200:\n",
    "        print(\"User Info:\", response.json())\n",
    "    else:\n",
    "        print(f\"Failed to get user info. Status code: {response.status_code}\")\n",
    "        print(response.json())\n",
    "        \n",
    "userInfo()"
   ]
  },
  {
   "cell_type": "markdown",
   "metadata": {},
   "source": [
    "## 4. 用户登出 /user/logout"
   ]
  },
  {
   "cell_type": "code",
   "execution_count": 4,
   "metadata": {},
   "outputs": [
    {
     "name": "stdout",
     "output_type": "stream",
     "text": [
      "Successfully logged out.\n"
     ]
    }
   ],
   "source": [
    "def logout():\n",
    "    login_url = f'{base_url}logout/'\n",
    "    # 设置请求头\n",
    "    headers = {\n",
    "        \"Authorization\": f\"Token {token}\"\n",
    "    }\n",
    "\n",
    "    # 发送POST请求\n",
    "    response = requests.post(login_url, headers=headers)\n",
    "\n",
    "    # 检查响应状态码\n",
    "    if response.status_code == 200:\n",
    "        print(f\"Successfully logged out.\")\n",
    "    else:\n",
    "        print(f\"Failed to log out. Status code: {response.status_code}\")\n",
    "        print(response.json())\n",
    "        \n",
    "logout()"
   ]
  },
  {
   "cell_type": "markdown",
   "metadata": {},
   "source": [
    "## 5. 用户注销 /user/delete"
   ]
  },
  {
   "cell_type": "code",
   "execution_count": 6,
   "metadata": {},
   "outputs": [
    {
     "name": "stdout",
     "output_type": "stream",
     "text": [
      "Successfully deleted user.\n"
     ]
    }
   ],
   "source": [
    "def deleteUser():\n",
    "    login_url = f'{base_url}delete/'\n",
    "    # 设置请求头\n",
    "    headers = {\n",
    "        \"authorization\": f\"Token {token}\"\n",
    "    }\n",
    "    \n",
    "    # 发送POST请求\n",
    "    response = requests.delete(login_url, headers=headers)\n",
    "    \n",
    "    # 检查响应状态码\n",
    "    if response.status_code == 204:\n",
    "        print(f\"Successfully deleted user.\")\n",
    "    else:\n",
    "        print(f\"Failed to delete user. Status code: {response.status_code}\")\n",
    "        print(response.json())\n",
    "        \n",
    "deleteUser()"
   ]
  }
 ],
 "metadata": {
  "kernelspec": {
   "display_name": ".venv",
   "language": "python",
   "name": "python3"
  },
  "language_info": {
   "codemirror_mode": {
    "name": "ipython",
    "version": 3
   },
   "file_extension": ".py",
   "mimetype": "text/x-python",
   "name": "python",
   "nbconvert_exporter": "python",
   "pygments_lexer": "ipython3",
   "version": "3.12.3"
  }
 },
 "nbformat": 4,
 "nbformat_minor": 2
}
